{
 "cells": [
  {
   "cell_type": "markdown",
   "metadata": {},
   "source": [
    "# Importação do ambiente:"
   ]
  },
  {
   "cell_type": "code",
   "execution_count": null,
   "metadata": {},
   "outputs": [],
   "source": [
    "import pandas as pd\n",
    "import numpy as np\n",
    "import matplotlib.pyplot as plt\n",
    "from sklearn.neural_network import MLPRegressor\n",
    "from sklearn.metrics import r2_score"
   ]
  },
  {
   "cell_type": "markdown",
   "metadata": {},
   "source": [
    "# Carrega a base:"
   ]
  },
  {
   "cell_type": "code",
   "execution_count": null,
   "metadata": {},
   "outputs": [],
   "source": [
    "data = pd.read_csv('dados/CotacoesMoedas_.csv', sep=';')\n",
    "#data.describe()"
   ]
  },
  {
   "cell_type": "markdown",
   "metadata": {},
   "source": [
    "# Cria coluna com contador:"
   ]
  },
  {
   "cell_type": "code",
   "execution_count": null,
   "metadata": {},
   "outputs": [],
   "source": [
    "de=[]\n",
    "for i in range(len(data.index)):\n",
    "    de.append(i)\n",
    "data['count']=de"
   ]
  },
  {
   "cell_type": "markdown",
   "metadata": {},
   "source": [
    "# Plota o gráfico:"
   ]
  },
  {
   "cell_type": "code",
   "execution_count": null,
   "metadata": {},
   "outputs": [],
   "source": [
    "plt.figure(1)\n",
    "plt.scatter(data['count'],data['Valor'])\n",
    "#plt.show()"
   ]
  },
  {
   "cell_type": "markdown",
   "metadata": {},
   "source": [
    "# Separa a base em treinamento e teste:"
   ]
  },
  {
   "cell_type": "code",
   "execution_count": null,
   "metadata": {},
   "outputs": [],
   "source": [
    "X_=data['count']\n",
    "y=data['Valor']\n",
    "\n",
    "X__ = data['count']\n",
    "\n",
    "x_treino=[] \n",
    "x_teste=[] \n",
    "y_treino=[] \n",
    "y_teste =[]\n",
    "\n",
    "for i,j in zip(X__,y):\n",
    "    if i<110:\n",
    "        x_treino.append(i)\n",
    "        y_treino.append(j)\n",
    "    else:\n",
    "        x_teste.append(i)\n",
    "        y_teste.append(j)\n",
    "\n",
    "#X = np.asarray(data['Daily_KWH_System'], dtype=\"|S6\")\n",
    "\n",
    "#y = np.asarray(df['Daily_KWH_System'], dtype=\"|S6\")\n",
    "\n",
    "X=np.array(X_)#, dtype=\"float64\")\n",
    "y=np.array(y)#, dtype=\"float64\") "
   ]
  },
  {
   "cell_type": "markdown",
   "metadata": {},
   "source": [
    "# Plota as bases de treino e teste:"
   ]
  },
  {
   "cell_type": "code",
   "execution_count": null,
   "metadata": {},
   "outputs": [],
   "source": [
    "plt.figure(2)\n",
    "plt.scatter(x_treino,y_treino)#Conjunto de dados de treino\n",
    "plt.show()\n",
    "\n",
    "plt.figure(3)\n",
    "plt.scatter(x_teste,y_teste)#Conjunto de dados de teste\n",
    "plt.show()"
   ]
  },
  {
   "cell_type": "markdown",
   "metadata": {},
   "source": [
    "# Configura a Rede Neural:"
   ]
  },
  {
   "cell_type": "code",
   "execution_count": null,
   "metadata": {},
   "outputs": [],
   "source": [
    "clf = MLPRegressor(hidden_layer_sizes=(30,40,100,30,5,1), \n",
    "                   activation='tanh',\n",
    "                   solver  = 'lbfgs',\n",
    "                   learning_rate = 'adaptive',\n",
    "                   max_iter=50000,\n",
    "                   random_state = 42,\n",
    "                   alpha = 0.001,\n",
    "                  tol = 0.000001,\n",
    "                  early_stopping=True)\n",
    "\n",
    "x_treino=np.array(x_treino)\n",
    "x_treino=x_treino.reshape(-1,1)\n",
    "\n",
    "clf.fit(x_treino,y_treino)\n",
    "\n",
    "sco=clf.score(x_treino,y_treino)\n",
    "\n",
    "print(\"Erro padrão do treinamento %.2f:\"% sco)\n",
    "\n",
    "x_teste=np.array(x_teste)\n",
    "x_teste=x_teste.reshape(-1,1)\n",
    "\n",
    "y_predict_treino = clf.predict(x_treino)\n",
    "\n",
    "y_predict = clf.predict(x_teste)\n",
    "\n",
    "\n",
    "r2 = r2_score(y_teste, y_predict)\n",
    "print(\"Erro padrão do teste final:%.2f\"% r2)"
   ]
  },
  {
   "cell_type": "markdown",
   "metadata": {},
   "source": [
    "# Plota o resultado da predição comparando com o real:"
   ]
  },
  {
   "cell_type": "code",
   "execution_count": null,
   "metadata": {},
   "outputs": [],
   "source": [
    "plt.figure(4)\n",
    "plt.scatter(x_treino,y_treino,color='green')#Base de treino\n",
    "plt.scatter(x_treino,y_predict_treino,color='black', alpha=.5)#Demonstração do treinamento \n",
    "plt.scatter(x_teste,y_teste,color='blue')#Base de teste\n",
    "plt.scatter(x_teste,y_predict,color='red')#Demonstração da predição\n",
    "plt.show()"
   ]
  },
  {
   "cell_type": "code",
   "execution_count": null,
   "metadata": {},
   "outputs": [],
   "source": []
  }
 ],
 "metadata": {
  "kernelspec": {
   "display_name": "Python 3",
   "language": "python",
   "name": "python3"
  },
  "language_info": {
   "codemirror_mode": {
    "name": "ipython",
    "version": 3
   },
   "file_extension": ".py",
   "mimetype": "text/x-python",
   "name": "python",
   "nbconvert_exporter": "python",
   "pygments_lexer": "ipython3",
   "version": "3.6.5"
  }
 },
 "nbformat": 4,
 "nbformat_minor": 2
}
